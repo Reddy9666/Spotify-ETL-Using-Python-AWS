{
 "cells": [
  {
   "cell_type": "code",
   "execution_count": null,
   "id": "a30e2d96",
   "metadata": {},
   "outputs": [],
   "source": [
    "#Extract data from top 100 trending songs from SPOTIFY and update database everyday"
   ]
  },
  {
   "cell_type": "code",
   "execution_count": 1,
   "id": "201d254c",
   "metadata": {},
   "outputs": [],
   "source": [
    "import spotipy\n",
    "import pandas as pd\n",
    "import numpy as np\n"
   ]
  },
  {
   "cell_type": "code",
   "execution_count": 2,
   "id": "192ccb4e",
   "metadata": {},
   "outputs": [],
   "source": [
    "from spotipy.oauth2 import SpotifyClientCredentials"
   ]
  },
  {
   "cell_type": "code",
   "execution_count": 3,
   "id": "48d8ea04",
   "metadata": {},
   "outputs": [],
   "source": [
    "#This is used for authentication\n",
    "client_credentials_manager = SpotifyClientCredentials(client_id=\"a4ecae3c968b4626a6daafe27f1500ce\", client_secret=\"c8496732a3a2487db0f27f711350a7e2\")"
   ]
  },
  {
   "cell_type": "code",
   "execution_count": 4,
   "id": "fb426147",
   "metadata": {},
   "outputs": [],
   "source": [
    "#This is used for authorisation that we have permisiion to have access data from API\n",
    "\n",
    "sp = spotipy.Spotify(client_credentials_manager = client_credentials_manager)"
   ]
  },
  {
   "cell_type": "code",
   "execution_count": 5,
   "id": "1ad47834",
   "metadata": {},
   "outputs": [],
   "source": [
    "playlist_link = \"https://open.spotify.com/playlist/37i9dQZEVXbNG2KDcFcKOF\""
   ]
  },
  {
   "cell_type": "code",
   "execution_count": 6,
   "id": "c7012250",
   "metadata": {},
   "outputs": [],
   "source": [
    "playlist_uri =playlist_link.split(\"/\")[-1]"
   ]
  },
  {
   "cell_type": "code",
   "execution_count": 7,
   "id": "5b46a407",
   "metadata": {},
   "outputs": [],
   "source": [
    "#This function playlist_tracks will exctract all the tracks from that URI\n",
    "\n",
    "data = sp.playlist_tracks(playlist_uri)\n",
    "\n",
    "#In this data we have information about artist,song, which album it belongs to,so we wanted to create 3 different tables "
   ]
  },
  {
   "cell_type": "code",
   "execution_count": 8,
   "id": "c79d3d05",
   "metadata": {},
   "outputs": [
    {
     "data": {
      "text/plain": [
       "'5aDEezKnOqyQo0qvTFhpkM'"
      ]
     },
     "execution_count": 8,
     "metadata": {},
     "output_type": "execute_result"
    }
   ],
   "source": [
    "#filtering data for album\n",
    "\n",
    "data['items'][0]['track']['album']['id']"
   ]
  },
  {
   "cell_type": "code",
   "execution_count": 9,
   "id": "6e9d7241",
   "metadata": {},
   "outputs": [
    {
     "data": {
      "text/plain": [
       "'DESVELADO'"
      ]
     },
     "execution_count": 9,
     "metadata": {},
     "output_type": "execute_result"
    }
   ],
   "source": [
    "data['items'][0]['track']['album']['name']"
   ]
  },
  {
   "cell_type": "code",
   "execution_count": 10,
   "id": "756eb2c7",
   "metadata": {},
   "outputs": [
    {
     "data": {
      "text/plain": [
       "'2023-04-28'"
      ]
     },
     "execution_count": 10,
     "metadata": {},
     "output_type": "execute_result"
    }
   ],
   "source": [
    "data['items'][0]['track']['album']['release_date']"
   ]
  },
  {
   "cell_type": "code",
   "execution_count": 11,
   "id": "ec2d3ba3",
   "metadata": {},
   "outputs": [
    {
     "data": {
      "text/plain": [
       "16"
      ]
     },
     "execution_count": 11,
     "metadata": {},
     "output_type": "execute_result"
    }
   ],
   "source": [
    "data['items'][0]['track']['album']['total_tracks']"
   ]
  },
  {
   "cell_type": "code",
   "execution_count": 12,
   "id": "c36b26d6",
   "metadata": {},
   "outputs": [
    {
     "data": {
      "text/plain": [
       "'https://open.spotify.com/album/5aDEezKnOqyQo0qvTFhpkM'"
      ]
     },
     "execution_count": 12,
     "metadata": {},
     "output_type": "execute_result"
    }
   ],
   "source": [
    "data['items'][0]['track']['album']['external_urls']['spotify']"
   ]
  },
  {
   "cell_type": "code",
   "execution_count": 13,
   "id": "2893ac56",
   "metadata": {},
   "outputs": [],
   "source": [
    "album_data=[]\n",
    "for i in data['items']:\n",
    "    album_id = i['track']['album']['id']\n",
    "    name = i['track']['album']['name']\n",
    "    release_date = i['track']['album']['release_date']\n",
    "    total_tracks = i['track']['album']['total_tracks']\n",
    "    url = i['track']['album']['external_urls']['spotify']\n",
    "    album_elements = {\"album_id\" : album_id,'name':name,'release_date':release_date,\n",
    "                        'total_tracks':total_tracks,'url':url}\n",
    "    album_data.append(album_elements)\n",
    "    "
   ]
  },
  {
   "cell_type": "code",
   "execution_count": 33,
   "id": "e99ad944",
   "metadata": {},
   "outputs": [
    {
     "data": {
      "text/plain": [
       "[{'external_urls': {'spotify': 'https://open.spotify.com/artist/0XeEobZplHxzM9QzFQWLiR'},\n",
       "  'href': 'https://api.spotify.com/v1/artists/0XeEobZplHxzM9QzFQWLiR',\n",
       "  'id': '0XeEobZplHxzM9QzFQWLiR',\n",
       "  'name': 'Eslabon Armado',\n",
       "  'type': 'artist',\n",
       "  'uri': 'spotify:artist:0XeEobZplHxzM9QzFQWLiR'},\n",
       " {'external_urls': {'spotify': 'https://open.spotify.com/artist/12GqGscKJx3aE4t07u7eVZ'},\n",
       "  'href': 'https://api.spotify.com/v1/artists/12GqGscKJx3aE4t07u7eVZ',\n",
       "  'id': '12GqGscKJx3aE4t07u7eVZ',\n",
       "  'name': 'Peso Pluma',\n",
       "  'type': 'artist',\n",
       "  'uri': 'spotify:artist:12GqGscKJx3aE4t07u7eVZ'}]"
      ]
     },
     "execution_count": 33,
     "metadata": {},
     "output_type": "execute_result"
    }
   ],
   "source": [
    "data['items'][0]['track']['artists']"
   ]
  },
  {
   "cell_type": "code",
   "execution_count": 41,
   "id": "31869d94",
   "metadata": {},
   "outputs": [],
   "source": [
    "artist_data = []\n",
    "for j in data['items']:\n",
    "    for key,value in j.items():\n",
    "        if key == \"track\":\n",
    "            for k in value[\"artists\"]:\n",
    "                artist_dic = {'artist_id': k['id'],'artist_name':k['name'], 'external_url': k['href']}\n",
    "                artist_data.append(artist_dic)      "
   ]
  },
  {
   "cell_type": "code",
   "execution_count": 50,
   "id": "7fa4498c",
   "metadata": {},
   "outputs": [],
   "source": [
    "song_data= []\n",
    "for row in data['items']:\n",
    "    song_id = row['track']['id']\n",
    "    song_name = row['track']['name']\n",
    "    song_duration = row ['track']['duration_ms']\n",
    "    song_url = row['track']['external_urls']['spotify']\n",
    "    song_popularity = row['track']['popularity']\n",
    "    song_added = row['added_at']\n",
    "    album_id = row['track']['album']['id']\n",
    "    artist_id = row['track']['album']['artists'][0]['id']\n",
    "    song_element = {'song_id':song_id,'song_name':song_name,'duration_ms':song_duration,'url':song_url,\n",
    "                    'popularity':song_popularity,'song_added':song_added,'album_id':album_id,\n",
    "                    'artist_id':artist_id\n",
    "                   }\n",
    "    song_data.append(song_element)"
   ]
  },
  {
   "cell_type": "code",
   "execution_count": 52,
   "id": "88c6483b",
   "metadata": {},
   "outputs": [],
   "source": [
    "album_df = pd.DataFrame.from_dict(album_data)"
   ]
  },
  {
   "cell_type": "code",
   "execution_count": 55,
   "id": "f2ba2b43",
   "metadata": {},
   "outputs": [],
   "source": [
    "song_df = pd.DataFrame.from_dict(song_data)"
   ]
  },
  {
   "cell_type": "code",
   "execution_count": 58,
   "id": "1862cbe4",
   "metadata": {},
   "outputs": [],
   "source": [
    "artist_df = pd.DataFrame.from_dict(artist_data)"
   ]
  },
  {
   "cell_type": "code",
   "execution_count": 61,
   "id": "fc4e3a08",
   "metadata": {},
   "outputs": [],
   "source": [
    "album_df = album_df.drop_duplicates(subset = ['album_id'])"
   ]
  },
  {
   "cell_type": "code",
   "execution_count": 62,
   "id": "3834a582",
   "metadata": {},
   "outputs": [],
   "source": [
    "artist_df = artist_df.drop_duplicates(subset = ['artist_id'])"
   ]
  },
  {
   "cell_type": "code",
   "execution_count": 65,
   "id": "6b7a9fe3",
   "metadata": {},
   "outputs": [
    {
     "data": {
      "text/html": [
       "<div>\n",
       "<style scoped>\n",
       "    .dataframe tbody tr th:only-of-type {\n",
       "        vertical-align: middle;\n",
       "    }\n",
       "\n",
       "    .dataframe tbody tr th {\n",
       "        vertical-align: top;\n",
       "    }\n",
       "\n",
       "    .dataframe thead th {\n",
       "        text-align: right;\n",
       "    }\n",
       "</style>\n",
       "<table border=\"1\" class=\"dataframe\">\n",
       "  <thead>\n",
       "    <tr style=\"text-align: right;\">\n",
       "      <th></th>\n",
       "      <th>artist_id</th>\n",
       "      <th>artist_name</th>\n",
       "      <th>external_url</th>\n",
       "    </tr>\n",
       "  </thead>\n",
       "  <tbody>\n",
       "    <tr>\n",
       "      <th>0</th>\n",
       "      <td>0XeEobZplHxzM9QzFQWLiR</td>\n",
       "      <td>Eslabon Armado</td>\n",
       "      <td>https://api.spotify.com/v1/artists/0XeEobZplHx...</td>\n",
       "    </tr>\n",
       "    <tr>\n",
       "      <th>1</th>\n",
       "      <td>12GqGscKJx3aE4t07u7eVZ</td>\n",
       "      <td>Peso Pluma</td>\n",
       "      <td>https://api.spotify.com/v1/artists/12GqGscKJx3...</td>\n",
       "    </tr>\n",
       "    <tr>\n",
       "      <th>2</th>\n",
       "      <td>716NhGYqD1jl2wI1Qkgq36</td>\n",
       "      <td>Bizarrap</td>\n",
       "      <td>https://api.spotify.com/v1/artists/716NhGYqD1j...</td>\n",
       "    </tr>\n",
       "    <tr>\n",
       "      <th>4</th>\n",
       "      <td>4q3ewBCX7sLwd24euuV69X</td>\n",
       "      <td>Bad Bunny</td>\n",
       "      <td>https://api.spotify.com/v1/artists/4q3ewBCX7sL...</td>\n",
       "    </tr>\n",
       "    <tr>\n",
       "      <th>5</th>\n",
       "      <td>1NNRWkhwmcXRimFYSBpB1y</td>\n",
       "      <td>Yng Lvcas</td>\n",
       "      <td>https://api.spotify.com/v1/artists/1NNRWkhwmcX...</td>\n",
       "    </tr>\n",
       "  </tbody>\n",
       "</table>\n",
       "</div>"
      ],
      "text/plain": [
       "                artist_id     artist_name  \\\n",
       "0  0XeEobZplHxzM9QzFQWLiR  Eslabon Armado   \n",
       "1  12GqGscKJx3aE4t07u7eVZ      Peso Pluma   \n",
       "2  716NhGYqD1jl2wI1Qkgq36        Bizarrap   \n",
       "4  4q3ewBCX7sLwd24euuV69X       Bad Bunny   \n",
       "5  1NNRWkhwmcXRimFYSBpB1y       Yng Lvcas   \n",
       "\n",
       "                                        external_url  \n",
       "0  https://api.spotify.com/v1/artists/0XeEobZplHx...  \n",
       "1  https://api.spotify.com/v1/artists/12GqGscKJx3...  \n",
       "2  https://api.spotify.com/v1/artists/716NhGYqD1j...  \n",
       "4  https://api.spotify.com/v1/artists/4q3ewBCX7sL...  \n",
       "5  https://api.spotify.com/v1/artists/1NNRWkhwmcX...  "
      ]
     },
     "execution_count": 65,
     "metadata": {},
     "output_type": "execute_result"
    }
   ],
   "source": [
    "artist_df.head()"
   ]
  },
  {
   "cell_type": "code",
   "execution_count": 66,
   "id": "090c6796",
   "metadata": {},
   "outputs": [
    {
     "data": {
      "text/html": [
       "<div>\n",
       "<style scoped>\n",
       "    .dataframe tbody tr th:only-of-type {\n",
       "        vertical-align: middle;\n",
       "    }\n",
       "\n",
       "    .dataframe tbody tr th {\n",
       "        vertical-align: top;\n",
       "    }\n",
       "\n",
       "    .dataframe thead th {\n",
       "        text-align: right;\n",
       "    }\n",
       "</style>\n",
       "<table border=\"1\" class=\"dataframe\">\n",
       "  <thead>\n",
       "    <tr style=\"text-align: right;\">\n",
       "      <th></th>\n",
       "      <th>album_id</th>\n",
       "      <th>name</th>\n",
       "      <th>release_date</th>\n",
       "      <th>total_tracks</th>\n",
       "      <th>url</th>\n",
       "    </tr>\n",
       "  </thead>\n",
       "  <tbody>\n",
       "    <tr>\n",
       "      <th>0</th>\n",
       "      <td>5aDEezKnOqyQo0qvTFhpkM</td>\n",
       "      <td>DESVELADO</td>\n",
       "      <td>2023-04-28</td>\n",
       "      <td>16</td>\n",
       "      <td>https://open.spotify.com/album/5aDEezKnOqyQo0q...</td>\n",
       "    </tr>\n",
       "    <tr>\n",
       "      <th>1</th>\n",
       "      <td>5dKPhEYBhP8j85HcxQfaw6</td>\n",
       "      <td>Peso Pluma: Bzrp Music Sessions, Vol. 55</td>\n",
       "      <td>2023-06-01</td>\n",
       "      <td>1</td>\n",
       "      <td>https://open.spotify.com/album/5dKPhEYBhP8j85H...</td>\n",
       "    </tr>\n",
       "    <tr>\n",
       "      <th>2</th>\n",
       "      <td>5gCcb5fsSb6w5K8SyJrgtB</td>\n",
       "      <td>WHERE SHE GOES</td>\n",
       "      <td>2023-05-18</td>\n",
       "      <td>1</td>\n",
       "      <td>https://open.spotify.com/album/5gCcb5fsSb6w5K8...</td>\n",
       "    </tr>\n",
       "    <tr>\n",
       "      <th>3</th>\n",
       "      <td>6aBVGuOUEuX18rHxyDWbti</td>\n",
       "      <td>La Bebe (Remix)</td>\n",
       "      <td>2023-03-17</td>\n",
       "      <td>2</td>\n",
       "      <td>https://open.spotify.com/album/6aBVGuOUEuX18rH...</td>\n",
       "    </tr>\n",
       "    <tr>\n",
       "      <th>4</th>\n",
       "      <td>7aGzSSUD8S6IhPCsZSiuMT</td>\n",
       "      <td>un x100to</td>\n",
       "      <td>2023-04-17</td>\n",
       "      <td>1</td>\n",
       "      <td>https://open.spotify.com/album/7aGzSSUD8S6IhPC...</td>\n",
       "    </tr>\n",
       "  </tbody>\n",
       "</table>\n",
       "</div>"
      ],
      "text/plain": [
       "                 album_id                                      name  \\\n",
       "0  5aDEezKnOqyQo0qvTFhpkM                                 DESVELADO   \n",
       "1  5dKPhEYBhP8j85HcxQfaw6  Peso Pluma: Bzrp Music Sessions, Vol. 55   \n",
       "2  5gCcb5fsSb6w5K8SyJrgtB                            WHERE SHE GOES   \n",
       "3  6aBVGuOUEuX18rHxyDWbti                           La Bebe (Remix)   \n",
       "4  7aGzSSUD8S6IhPCsZSiuMT                                 un x100to   \n",
       "\n",
       "  release_date  total_tracks  \\\n",
       "0   2023-04-28            16   \n",
       "1   2023-06-01             1   \n",
       "2   2023-05-18             1   \n",
       "3   2023-03-17             2   \n",
       "4   2023-04-17             1   \n",
       "\n",
       "                                                 url  \n",
       "0  https://open.spotify.com/album/5aDEezKnOqyQo0q...  \n",
       "1  https://open.spotify.com/album/5dKPhEYBhP8j85H...  \n",
       "2  https://open.spotify.com/album/5gCcb5fsSb6w5K8...  \n",
       "3  https://open.spotify.com/album/6aBVGuOUEuX18rH...  \n",
       "4  https://open.spotify.com/album/7aGzSSUD8S6IhPC...  "
      ]
     },
     "execution_count": 66,
     "metadata": {},
     "output_type": "execute_result"
    }
   ],
   "source": [
    "album_df.head()"
   ]
  },
  {
   "cell_type": "code",
   "execution_count": 68,
   "id": "bd17783f",
   "metadata": {},
   "outputs": [
    {
     "name": "stderr",
     "output_type": "stream",
     "text": [
      "C:\\Users\\sarav\\AppData\\Local\\Temp/ipykernel_2776/3149184940.py:3: SettingWithCopyWarning: \n",
      "A value is trying to be set on a copy of a slice from a DataFrame.\n",
      "Try using .loc[row_indexer,col_indexer] = value instead\n",
      "\n",
      "See the caveats in the documentation: https://pandas.pydata.org/pandas-docs/stable/user_guide/indexing.html#returning-a-view-versus-a-copy\n",
      "  album_df['release_date'] = pd.to_datetime(album_df['release_date'])\n"
     ]
    }
   ],
   "source": [
    "#Converting data and time to datetime format\n",
    "\n",
    "album_df['release_date'] = pd.to_datetime(album_df['release_date'])"
   ]
  },
  {
   "cell_type": "code",
   "execution_count": 69,
   "id": "88f3774a",
   "metadata": {},
   "outputs": [
    {
     "name": "stdout",
     "output_type": "stream",
     "text": [
      "<class 'pandas.core.frame.DataFrame'>\n",
      "Int64Index: 48 entries, 0 to 49\n",
      "Data columns (total 5 columns):\n",
      " #   Column        Non-Null Count  Dtype         \n",
      "---  ------        --------------  -----         \n",
      " 0   album_id      48 non-null     object        \n",
      " 1   name          48 non-null     object        \n",
      " 2   release_date  48 non-null     datetime64[ns]\n",
      " 3   total_tracks  48 non-null     int64         \n",
      " 4   url           48 non-null     object        \n",
      "dtypes: datetime64[ns](1), int64(1), object(3)\n",
      "memory usage: 2.2+ KB\n"
     ]
    }
   ],
   "source": [
    "album_df.info()"
   ]
  },
  {
   "cell_type": "code",
   "execution_count": 70,
   "id": "16957c5f",
   "metadata": {},
   "outputs": [
    {
     "data": {
      "text/html": [
       "<div>\n",
       "<style scoped>\n",
       "    .dataframe tbody tr th:only-of-type {\n",
       "        vertical-align: middle;\n",
       "    }\n",
       "\n",
       "    .dataframe tbody tr th {\n",
       "        vertical-align: top;\n",
       "    }\n",
       "\n",
       "    .dataframe thead th {\n",
       "        text-align: right;\n",
       "    }\n",
       "</style>\n",
       "<table border=\"1\" class=\"dataframe\">\n",
       "  <thead>\n",
       "    <tr style=\"text-align: right;\">\n",
       "      <th></th>\n",
       "      <th>song_id</th>\n",
       "      <th>song_name</th>\n",
       "      <th>duration_ms</th>\n",
       "      <th>url</th>\n",
       "      <th>popularity</th>\n",
       "      <th>song_added</th>\n",
       "      <th>album_id</th>\n",
       "      <th>artist_id</th>\n",
       "    </tr>\n",
       "  </thead>\n",
       "  <tbody>\n",
       "    <tr>\n",
       "      <th>0</th>\n",
       "      <td>3qQbCzHBycnDpGskqOWY0E</td>\n",
       "      <td>Ella Baila Sola</td>\n",
       "      <td>165671</td>\n",
       "      <td>https://open.spotify.com/track/3qQbCzHBycnDpGs...</td>\n",
       "      <td>93</td>\n",
       "      <td>2023-06-23T11:23:40Z</td>\n",
       "      <td>5aDEezKnOqyQo0qvTFhpkM</td>\n",
       "      <td>0XeEobZplHxzM9QzFQWLiR</td>\n",
       "    </tr>\n",
       "    <tr>\n",
       "      <th>1</th>\n",
       "      <td>5AqiaZwhmC6dIbgWrD5SzV</td>\n",
       "      <td>Peso Pluma: Bzrp Music Sessions, Vol. 55</td>\n",
       "      <td>188361</td>\n",
       "      <td>https://open.spotify.com/track/5AqiaZwhmC6dIbg...</td>\n",
       "      <td>97</td>\n",
       "      <td>2023-06-23T11:23:40Z</td>\n",
       "      <td>5dKPhEYBhP8j85HcxQfaw6</td>\n",
       "      <td>716NhGYqD1jl2wI1Qkgq36</td>\n",
       "    </tr>\n",
       "    <tr>\n",
       "      <th>2</th>\n",
       "      <td>7ro0hRteUMfnOioTFI5TG1</td>\n",
       "      <td>WHERE SHE GOES</td>\n",
       "      <td>231704</td>\n",
       "      <td>https://open.spotify.com/track/7ro0hRteUMfnOio...</td>\n",
       "      <td>99</td>\n",
       "      <td>2023-06-23T11:23:40Z</td>\n",
       "      <td>5gCcb5fsSb6w5K8SyJrgtB</td>\n",
       "      <td>4q3ewBCX7sLwd24euuV69X</td>\n",
       "    </tr>\n",
       "    <tr>\n",
       "      <th>3</th>\n",
       "      <td>2UW7JaomAMuX9pZrjVpHAU</td>\n",
       "      <td>La Bebe - Remix</td>\n",
       "      <td>234352</td>\n",
       "      <td>https://open.spotify.com/track/2UW7JaomAMuX9pZ...</td>\n",
       "      <td>100</td>\n",
       "      <td>2023-06-23T11:23:40Z</td>\n",
       "      <td>6aBVGuOUEuX18rHxyDWbti</td>\n",
       "      <td>1NNRWkhwmcXRimFYSBpB1y</td>\n",
       "    </tr>\n",
       "    <tr>\n",
       "      <th>4</th>\n",
       "      <td>6pD0ufEQq0xdHSsRbg9LBK</td>\n",
       "      <td>un x100to</td>\n",
       "      <td>194563</td>\n",
       "      <td>https://open.spotify.com/track/6pD0ufEQq0xdHSs...</td>\n",
       "      <td>99</td>\n",
       "      <td>2023-06-23T11:23:40Z</td>\n",
       "      <td>7aGzSSUD8S6IhPCsZSiuMT</td>\n",
       "      <td>6XkjpgcEsYab502Vr1bBeW</td>\n",
       "    </tr>\n",
       "  </tbody>\n",
       "</table>\n",
       "</div>"
      ],
      "text/plain": [
       "                  song_id                                 song_name  \\\n",
       "0  3qQbCzHBycnDpGskqOWY0E                           Ella Baila Sola   \n",
       "1  5AqiaZwhmC6dIbgWrD5SzV  Peso Pluma: Bzrp Music Sessions, Vol. 55   \n",
       "2  7ro0hRteUMfnOioTFI5TG1                            WHERE SHE GOES   \n",
       "3  2UW7JaomAMuX9pZrjVpHAU                           La Bebe - Remix   \n",
       "4  6pD0ufEQq0xdHSsRbg9LBK                                 un x100to   \n",
       "\n",
       "   duration_ms                                                url  popularity  \\\n",
       "0       165671  https://open.spotify.com/track/3qQbCzHBycnDpGs...          93   \n",
       "1       188361  https://open.spotify.com/track/5AqiaZwhmC6dIbg...          97   \n",
       "2       231704  https://open.spotify.com/track/7ro0hRteUMfnOio...          99   \n",
       "3       234352  https://open.spotify.com/track/2UW7JaomAMuX9pZ...         100   \n",
       "4       194563  https://open.spotify.com/track/6pD0ufEQq0xdHSs...          99   \n",
       "\n",
       "             song_added                album_id               artist_id  \n",
       "0  2023-06-23T11:23:40Z  5aDEezKnOqyQo0qvTFhpkM  0XeEobZplHxzM9QzFQWLiR  \n",
       "1  2023-06-23T11:23:40Z  5dKPhEYBhP8j85HcxQfaw6  716NhGYqD1jl2wI1Qkgq36  \n",
       "2  2023-06-23T11:23:40Z  5gCcb5fsSb6w5K8SyJrgtB  4q3ewBCX7sLwd24euuV69X  \n",
       "3  2023-06-23T11:23:40Z  6aBVGuOUEuX18rHxyDWbti  1NNRWkhwmcXRimFYSBpB1y  \n",
       "4  2023-06-23T11:23:40Z  7aGzSSUD8S6IhPCsZSiuMT  6XkjpgcEsYab502Vr1bBeW  "
      ]
     },
     "execution_count": 70,
     "metadata": {},
     "output_type": "execute_result"
    }
   ],
   "source": [
    "song_df.head()"
   ]
  },
  {
   "cell_type": "code",
   "execution_count": 71,
   "id": "512b7a56",
   "metadata": {},
   "outputs": [],
   "source": [
    "#Converting data and time to datetime format\n",
    "song_df['song_added'] = pd.to_datetime(song_df['song_added'])"
   ]
  },
  {
   "cell_type": "code",
   "execution_count": 72,
   "id": "d6cf6cc7",
   "metadata": {},
   "outputs": [
    {
     "data": {
      "text/html": [
       "<div>\n",
       "<style scoped>\n",
       "    .dataframe tbody tr th:only-of-type {\n",
       "        vertical-align: middle;\n",
       "    }\n",
       "\n",
       "    .dataframe tbody tr th {\n",
       "        vertical-align: top;\n",
       "    }\n",
       "\n",
       "    .dataframe thead th {\n",
       "        text-align: right;\n",
       "    }\n",
       "</style>\n",
       "<table border=\"1\" class=\"dataframe\">\n",
       "  <thead>\n",
       "    <tr style=\"text-align: right;\">\n",
       "      <th></th>\n",
       "      <th>song_id</th>\n",
       "      <th>song_name</th>\n",
       "      <th>duration_ms</th>\n",
       "      <th>url</th>\n",
       "      <th>popularity</th>\n",
       "      <th>song_added</th>\n",
       "      <th>album_id</th>\n",
       "      <th>artist_id</th>\n",
       "    </tr>\n",
       "  </thead>\n",
       "  <tbody>\n",
       "    <tr>\n",
       "      <th>0</th>\n",
       "      <td>3qQbCzHBycnDpGskqOWY0E</td>\n",
       "      <td>Ella Baila Sola</td>\n",
       "      <td>165671</td>\n",
       "      <td>https://open.spotify.com/track/3qQbCzHBycnDpGs...</td>\n",
       "      <td>93</td>\n",
       "      <td>2023-06-23 11:23:40+00:00</td>\n",
       "      <td>5aDEezKnOqyQo0qvTFhpkM</td>\n",
       "      <td>0XeEobZplHxzM9QzFQWLiR</td>\n",
       "    </tr>\n",
       "    <tr>\n",
       "      <th>1</th>\n",
       "      <td>5AqiaZwhmC6dIbgWrD5SzV</td>\n",
       "      <td>Peso Pluma: Bzrp Music Sessions, Vol. 55</td>\n",
       "      <td>188361</td>\n",
       "      <td>https://open.spotify.com/track/5AqiaZwhmC6dIbg...</td>\n",
       "      <td>97</td>\n",
       "      <td>2023-06-23 11:23:40+00:00</td>\n",
       "      <td>5dKPhEYBhP8j85HcxQfaw6</td>\n",
       "      <td>716NhGYqD1jl2wI1Qkgq36</td>\n",
       "    </tr>\n",
       "    <tr>\n",
       "      <th>2</th>\n",
       "      <td>7ro0hRteUMfnOioTFI5TG1</td>\n",
       "      <td>WHERE SHE GOES</td>\n",
       "      <td>231704</td>\n",
       "      <td>https://open.spotify.com/track/7ro0hRteUMfnOio...</td>\n",
       "      <td>99</td>\n",
       "      <td>2023-06-23 11:23:40+00:00</td>\n",
       "      <td>5gCcb5fsSb6w5K8SyJrgtB</td>\n",
       "      <td>4q3ewBCX7sLwd24euuV69X</td>\n",
       "    </tr>\n",
       "    <tr>\n",
       "      <th>3</th>\n",
       "      <td>2UW7JaomAMuX9pZrjVpHAU</td>\n",
       "      <td>La Bebe - Remix</td>\n",
       "      <td>234352</td>\n",
       "      <td>https://open.spotify.com/track/2UW7JaomAMuX9pZ...</td>\n",
       "      <td>100</td>\n",
       "      <td>2023-06-23 11:23:40+00:00</td>\n",
       "      <td>6aBVGuOUEuX18rHxyDWbti</td>\n",
       "      <td>1NNRWkhwmcXRimFYSBpB1y</td>\n",
       "    </tr>\n",
       "    <tr>\n",
       "      <th>4</th>\n",
       "      <td>6pD0ufEQq0xdHSsRbg9LBK</td>\n",
       "      <td>un x100to</td>\n",
       "      <td>194563</td>\n",
       "      <td>https://open.spotify.com/track/6pD0ufEQq0xdHSs...</td>\n",
       "      <td>99</td>\n",
       "      <td>2023-06-23 11:23:40+00:00</td>\n",
       "      <td>7aGzSSUD8S6IhPCsZSiuMT</td>\n",
       "      <td>6XkjpgcEsYab502Vr1bBeW</td>\n",
       "    </tr>\n",
       "  </tbody>\n",
       "</table>\n",
       "</div>"
      ],
      "text/plain": [
       "                  song_id                                 song_name  \\\n",
       "0  3qQbCzHBycnDpGskqOWY0E                           Ella Baila Sola   \n",
       "1  5AqiaZwhmC6dIbgWrD5SzV  Peso Pluma: Bzrp Music Sessions, Vol. 55   \n",
       "2  7ro0hRteUMfnOioTFI5TG1                            WHERE SHE GOES   \n",
       "3  2UW7JaomAMuX9pZrjVpHAU                           La Bebe - Remix   \n",
       "4  6pD0ufEQq0xdHSsRbg9LBK                                 un x100to   \n",
       "\n",
       "   duration_ms                                                url  popularity  \\\n",
       "0       165671  https://open.spotify.com/track/3qQbCzHBycnDpGs...          93   \n",
       "1       188361  https://open.spotify.com/track/5AqiaZwhmC6dIbg...          97   \n",
       "2       231704  https://open.spotify.com/track/7ro0hRteUMfnOio...          99   \n",
       "3       234352  https://open.spotify.com/track/2UW7JaomAMuX9pZ...         100   \n",
       "4       194563  https://open.spotify.com/track/6pD0ufEQq0xdHSs...          99   \n",
       "\n",
       "                 song_added                album_id               artist_id  \n",
       "0 2023-06-23 11:23:40+00:00  5aDEezKnOqyQo0qvTFhpkM  0XeEobZplHxzM9QzFQWLiR  \n",
       "1 2023-06-23 11:23:40+00:00  5dKPhEYBhP8j85HcxQfaw6  716NhGYqD1jl2wI1Qkgq36  \n",
       "2 2023-06-23 11:23:40+00:00  5gCcb5fsSb6w5K8SyJrgtB  4q3ewBCX7sLwd24euuV69X  \n",
       "3 2023-06-23 11:23:40+00:00  6aBVGuOUEuX18rHxyDWbti  1NNRWkhwmcXRimFYSBpB1y  \n",
       "4 2023-06-23 11:23:40+00:00  7aGzSSUD8S6IhPCsZSiuMT  6XkjpgcEsYab502Vr1bBeW  "
      ]
     },
     "execution_count": 72,
     "metadata": {},
     "output_type": "execute_result"
    }
   ],
   "source": [
    "song_df.head()"
   ]
  },
  {
   "cell_type": "code",
   "execution_count": 93,
   "id": "5293c7b2",
   "metadata": {},
   "outputs": [],
   "source": [
    "high_popularity =song_df['popularity'].max()\n",
    "rows_with_max_popularity = song_df[song_df['popularity'] == high_popularity]['song_name']"
   ]
  },
  {
   "cell_type": "code",
   "execution_count": null,
   "id": "9b7c109b",
   "metadata": {},
   "outputs": [],
   "source": []
  }
 ],
 "metadata": {
  "kernelspec": {
   "display_name": "Python 3 (ipykernel)",
   "language": "python",
   "name": "python3"
  },
  "language_info": {
   "codemirror_mode": {
    "name": "ipython",
    "version": 3
   },
   "file_extension": ".py",
   "mimetype": "text/x-python",
   "name": "python",
   "nbconvert_exporter": "python",
   "pygments_lexer": "ipython3",
   "version": "3.9.7"
  }
 },
 "nbformat": 4,
 "nbformat_minor": 5
}
